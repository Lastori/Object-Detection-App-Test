{
 "cells": [
  {
   "cell_type": "code",
   "execution_count": 3,
   "metadata": {
    "colab": {
     "base_uri": "https://localhost:8080/"
    },
    "id": "Do-bJdBBSblw",
    "outputId": "c28101fc-2db0-4c9b-c014-9ee13490992b"
   },
   "outputs": [],
   "source": [
    "!pip install -Uqq fastbook"
   ]
  },
  {
   "cell_type": "code",
   "execution_count": 2,
   "metadata": {
    "colab": {
     "base_uri": "https://localhost:8080/"
    },
    "id": "jL69MriISsr4",
    "outputId": "f2d2cb77-9d9c-4fe5-8ed6-d3ef0b29ddd6"
   },
   "outputs": [
    {
     "name": "stderr",
     "output_type": "stream",
     "text": [
      "C:\\Users\\lasto\\anaconda3\\lib\\site-packages\\fastbook\\__init__.py:19: UserWarning: Missing `graphviz` - please run `conda install fastbook`\n",
      "  except ModuleNotFoundError: warn(\"Missing `graphviz` - please run `conda install fastbook`\")\n"
     ]
    }
   ],
   "source": [
    "import fastbook\n",
    "fastbook.setup_book()"
   ]
  },
  {
   "cell_type": "code",
   "execution_count": 3,
   "metadata": {
    "id": "b5vSK1C7Supn"
   },
   "outputs": [],
   "source": [
    "from fastbook import *\n",
    "from fastai.vision.widgets import *"
   ]
  },
  {
   "cell_type": "code",
   "execution_count": 6,
   "metadata": {
    "colab": {
     "base_uri": "https://localhost:8080/"
    },
    "id": "e8JT-6MiSwk4",
    "outputId": "29499847-114a-4a28-9ab8-b86d3bd79009"
   },
   "outputs": [],
   "source": [
    "from tensorflow.keras.applications.resnet50 import ResNet50\n",
    "from tensorflow.keras.preprocessing import image\n",
    "from tensorflow.keras.applications.resnet50 import preprocess_input, decode_predictions\n",
    "import numpy as np\n",
    "\n",
    "model = ResNet50(weights='imagenet')"
   ]
  },
  {
   "cell_type": "code",
   "execution_count": 12,
   "metadata": {
    "id": "SGuivuEHs6Gs"
   },
   "outputs": [],
   "source": [
    "out_pl = widgets.Output()"
   ]
  },
  {
   "cell_type": "code",
   "execution_count": 8,
   "metadata": {
    "id": "-lxdvGWVS0rJ"
   },
   "outputs": [],
   "source": [
    "btn_run = widgets.Button(description='Classify')"
   ]
  },
  {
   "cell_type": "code",
   "execution_count": 14,
   "metadata": {
    "id": "kw8F4A4Wtg_w"
   },
   "outputs": [],
   "source": [
    "lbl_pred = widgets.Label()"
   ]
  },
  {
   "cell_type": "code",
   "execution_count": 10,
   "metadata": {
    "id": "MY7oS9pLS-TK"
   },
   "outputs": [],
   "source": [
    "btn_upload = widgets.FileUpload()"
   ]
  },
  {
   "cell_type": "code",
   "execution_count": 9,
   "metadata": {
    "id": "FMEkxmZjS7P0"
   },
   "outputs": [],
   "source": [
    "def on_click_classify(change):\n",
    "    img = PILImage.create(btn_upload.data[-1])\n",
    "    img2 = img.resize((224,224))\n",
    "    x = image.img_to_array(img2)\n",
    "    x = np.expand_dims(x, axis=0)\n",
    "    x = preprocess_input(x)\n",
    "    out_pl.clear_output()\n",
    "    with out_pl: display(img.to_thumb(128,128))\n",
    "    out_pl\n",
    "    preds = model.predict(x)\n",
    "    lbl_pred.value = f'Prediction: {decode_predictions(preds, top=5)[0]}'\n",
    "\n",
    "btn_run.on_click(on_click_classify)"
   ]
  },
  {
   "cell_type": "code",
   "execution_count": 15,
   "metadata": {
    "colab": {
     "base_uri": "https://localhost:8080/",
     "height": 230,
     "referenced_widgets": [
      "c54502876b944c869656bb6be02a3be9",
      "3850254bde994b41aa95c3b7d94852fa",
      "2a0b554caa4d49bd88be8e4231896eea",
      "3db565c151c74ca286ef848280daae9b",
      "f65b38497ec340dc9fb1d2d7ea2c79e3",
      "437f486f11c346398a8949aa1e31f1e1",
      "464e305ecce54ee2a455a4b8b47d430a",
      "d6df1f59a9a6426ba37e75c1c876eec8",
      "1d3454b170734b68b35ef9a20965e2fd",
      "fdc34bbf58334e1d9769bd910ab98764",
      "0a1c16727ac246d281edbfd0535ae9ea",
      "a5d57626c5e84907b71c3fbb7ee5d2ef",
      "4f4992bc8bf54580bb45535c5a2c7bba",
      "8c71350ff6cd49759102382d7cd71c06",
      "702ea4ce4e22432c8017900e4224ef8f",
      "49d5c8dc25a84e429fd471070113d2a8"
     ]
    },
    "id": "rSC0_gzJTBVZ",
    "outputId": "5c037669-6db5-4049-eada-d64e8e91ec03"
   },
   "outputs": [
    {
     "data": {
      "application/vnd.jupyter.widget-view+json": {
       "model_id": "1f1e4f5ded094205a0148e116e1d279c",
       "version_major": 2,
       "version_minor": 0
      },
      "text/plain": [
       "VBox(children=(Label(value='Select a image!'), FileUpload(value={}, description='Upload'), Button(description=…"
      ]
     },
     "metadata": {},
     "output_type": "display_data"
    }
   ],
   "source": [
    "VBox([widgets.Label('Select a image!'), \n",
    "      btn_upload, btn_run, out_pl, lbl_pred])"
   ]
  }
 ],
 "metadata": {
  "colab": {
   "collapsed_sections": [],
   "name": "Object Detection Wep App.ipynb",
   "provenance": []
  },
  "kernelspec": {
   "display_name": "Python 3",
   "language": "python",
   "name": "python3"
  },
  "language_info": {
   "codemirror_mode": {
    "name": "ipython",
    "version": 3
   },
   "file_extension": ".py",
   "mimetype": "text/x-python",
   "name": "python",
   "nbconvert_exporter": "python",
   "pygments_lexer": "ipython3",
   "version": "3.8.5"
  },
  "widgets": {
   "application/vnd.jupyter.widget-state+json": {
    "0a1c16727ac246d281edbfd0535ae9ea": {
     "model_module": "@jupyter-widgets/base",
     "model_module_version": "1.2.0",
     "model_name": "LayoutModel",
     "state": {
      "_model_module": "@jupyter-widgets/base",
      "_model_module_version": "1.2.0",
      "_model_name": "LayoutModel",
      "_view_count": null,
      "_view_module": "@jupyter-widgets/base",
      "_view_module_version": "1.2.0",
      "_view_name": "LayoutView",
      "align_content": null,
      "align_items": null,
      "align_self": null,
      "border": null,
      "bottom": null,
      "display": null,
      "flex": null,
      "flex_flow": null,
      "grid_area": null,
      "grid_auto_columns": null,
      "grid_auto_flow": null,
      "grid_auto_rows": null,
      "grid_column": null,
      "grid_gap": null,
      "grid_row": null,
      "grid_template_areas": null,
      "grid_template_columns": null,
      "grid_template_rows": null,
      "height": null,
      "justify_content": null,
      "justify_items": null,
      "left": null,
      "margin": null,
      "max_height": null,
      "max_width": null,
      "min_height": null,
      "min_width": null,
      "object_fit": null,
      "object_position": null,
      "order": null,
      "overflow": null,
      "overflow_x": null,
      "overflow_y": null,
      "padding": null,
      "right": null,
      "top": null,
      "visibility": null,
      "width": null
     }
    },
    "1d3454b170734b68b35ef9a20965e2fd": {
     "model_module": "@jupyter-widgets/base",
     "model_module_version": "1.2.0",
     "model_name": "LayoutModel",
     "state": {
      "_model_module": "@jupyter-widgets/base",
      "_model_module_version": "1.2.0",
      "_model_name": "LayoutModel",
      "_view_count": null,
      "_view_module": "@jupyter-widgets/base",
      "_view_module_version": "1.2.0",
      "_view_name": "LayoutView",
      "align_content": null,
      "align_items": null,
      "align_self": null,
      "border": null,
      "bottom": null,
      "display": null,
      "flex": null,
      "flex_flow": null,
      "grid_area": null,
      "grid_auto_columns": null,
      "grid_auto_flow": null,
      "grid_auto_rows": null,
      "grid_column": null,
      "grid_gap": null,
      "grid_row": null,
      "grid_template_areas": null,
      "grid_template_columns": null,
      "grid_template_rows": null,
      "height": null,
      "justify_content": null,
      "justify_items": null,
      "left": null,
      "margin": null,
      "max_height": null,
      "max_width": null,
      "min_height": null,
      "min_width": null,
      "object_fit": null,
      "object_position": null,
      "order": null,
      "overflow": null,
      "overflow_x": null,
      "overflow_y": null,
      "padding": null,
      "right": null,
      "top": null,
      "visibility": null,
      "width": null
     }
    },
    "2a0b554caa4d49bd88be8e4231896eea": {
     "model_module": "@jupyter-widgets/controls",
     "model_module_version": "1.5.0",
     "model_name": "LabelModel",
     "state": {
      "_dom_classes": [],
      "_model_module": "@jupyter-widgets/controls",
      "_model_module_version": "1.5.0",
      "_model_name": "LabelModel",
      "_view_count": null,
      "_view_module": "@jupyter-widgets/controls",
      "_view_module_version": "1.5.0",
      "_view_name": "LabelView",
      "description": "",
      "description_tooltip": null,
      "layout": "IPY_MODEL_1d3454b170734b68b35ef9a20965e2fd",
      "placeholder": "​",
      "style": "IPY_MODEL_d6df1f59a9a6426ba37e75c1c876eec8",
      "value": "Select a image!"
     }
    },
    "3850254bde994b41aa95c3b7d94852fa": {
     "model_module": "@jupyter-widgets/base",
     "model_module_version": "1.2.0",
     "model_name": "LayoutModel",
     "state": {
      "_model_module": "@jupyter-widgets/base",
      "_model_module_version": "1.2.0",
      "_model_name": "LayoutModel",
      "_view_count": null,
      "_view_module": "@jupyter-widgets/base",
      "_view_module_version": "1.2.0",
      "_view_name": "LayoutView",
      "align_content": null,
      "align_items": null,
      "align_self": null,
      "border": null,
      "bottom": null,
      "display": null,
      "flex": null,
      "flex_flow": null,
      "grid_area": null,
      "grid_auto_columns": null,
      "grid_auto_flow": null,
      "grid_auto_rows": null,
      "grid_column": null,
      "grid_gap": null,
      "grid_row": null,
      "grid_template_areas": null,
      "grid_template_columns": null,
      "grid_template_rows": null,
      "height": null,
      "justify_content": null,
      "justify_items": null,
      "left": null,
      "margin": null,
      "max_height": null,
      "max_width": null,
      "min_height": null,
      "min_width": null,
      "object_fit": null,
      "object_position": null,
      "order": null,
      "overflow": null,
      "overflow_x": null,
      "overflow_y": null,
      "padding": null,
      "right": null,
      "top": null,
      "visibility": null,
      "width": null
     }
    },
    "3db565c151c74ca286ef848280daae9b": {
     "model_module": "@jupyter-widgets/controls",
     "model_module_version": "1.5.0",
     "model_name": "FileUploadModel",
     "state": {
      "_counter": 2,
      "_dom_classes": [],
      "_model_module": "@jupyter-widgets/controls",
      "_model_module_version": "1.5.0",
      "_model_name": "FileUploadModel",
      "_view_count": null,
      "_view_module": "@jupyter-widgets/controls",
      "_view_module_version": "1.5.0",
      "_view_name": "FileUploadView",
      "accept": "",
      "button_style": "",
      "data": [
       null
      ],
      "description": "Upload",
      "description_tooltip": null,
      "disabled": false,
      "error": "",
      "icon": "upload",
      "layout": "IPY_MODEL_0a1c16727ac246d281edbfd0535ae9ea",
      "metadata": [
       {
        "lastModified": 1638731177929,
        "name": "00000016.jpg",
        "size": 60893,
        "type": "image/jpeg"
       }
      ],
      "multiple": false,
      "style": "IPY_MODEL_fdc34bbf58334e1d9769bd910ab98764"
     }
    },
    "437f486f11c346398a8949aa1e31f1e1": {
     "model_module": "@jupyter-widgets/output",
     "model_module_version": "1.0.0",
     "model_name": "OutputModel",
     "state": {
      "_dom_classes": [],
      "_model_module": "@jupyter-widgets/output",
      "_model_module_version": "1.0.0",
      "_model_name": "OutputModel",
      "_view_count": null,
      "_view_module": "@jupyter-widgets/output",
      "_view_module_version": "1.0.0",
      "_view_name": "OutputView",
      "layout": "IPY_MODEL_49d5c8dc25a84e429fd471070113d2a8",
      "msg_id": "",
      "outputs": [
       {
        "data": {
         "image/png": "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\n",
         "text/plain": "<PIL.Image.Image image mode=RGB size=128x85 at 0x7FB6115274D0>"
        },
        "metadata": {},
        "output_type": "display_data"
       }
      ]
     }
    },
    "464e305ecce54ee2a455a4b8b47d430a": {
     "model_module": "@jupyter-widgets/controls",
     "model_module_version": "1.5.0",
     "model_name": "LabelModel",
     "state": {
      "_dom_classes": [],
      "_model_module": "@jupyter-widgets/controls",
      "_model_module_version": "1.5.0",
      "_model_name": "LabelModel",
      "_view_count": null,
      "_view_module": "@jupyter-widgets/controls",
      "_view_module_version": "1.5.0",
      "_view_name": "LabelView",
      "description": "",
      "description_tooltip": null,
      "layout": "IPY_MODEL_702ea4ce4e22432c8017900e4224ef8f",
      "placeholder": "​",
      "style": "IPY_MODEL_8c71350ff6cd49759102382d7cd71c06",
      "value": "Prediction: [('n07747607', 'orange', 0.24144456), ('n07720875', 'bell_pepper', 0.14050952), ('n07932039', 'eggnog', 0.091133565), ('n02948072', 'candle', 0.072696134), ('n07579787', 'plate', 0.07202036)]"
     }
    },
    "49d5c8dc25a84e429fd471070113d2a8": {
     "model_module": "@jupyter-widgets/base",
     "model_module_version": "1.2.0",
     "model_name": "LayoutModel",
     "state": {
      "_model_module": "@jupyter-widgets/base",
      "_model_module_version": "1.2.0",
      "_model_name": "LayoutModel",
      "_view_count": null,
      "_view_module": "@jupyter-widgets/base",
      "_view_module_version": "1.2.0",
      "_view_name": "LayoutView",
      "align_content": null,
      "align_items": null,
      "align_self": null,
      "border": null,
      "bottom": null,
      "display": null,
      "flex": null,
      "flex_flow": null,
      "grid_area": null,
      "grid_auto_columns": null,
      "grid_auto_flow": null,
      "grid_auto_rows": null,
      "grid_column": null,
      "grid_gap": null,
      "grid_row": null,
      "grid_template_areas": null,
      "grid_template_columns": null,
      "grid_template_rows": null,
      "height": null,
      "justify_content": null,
      "justify_items": null,
      "left": null,
      "margin": null,
      "max_height": null,
      "max_width": null,
      "min_height": null,
      "min_width": null,
      "object_fit": null,
      "object_position": null,
      "order": null,
      "overflow": null,
      "overflow_x": null,
      "overflow_y": null,
      "padding": null,
      "right": null,
      "top": null,
      "visibility": null,
      "width": null
     }
    },
    "4f4992bc8bf54580bb45535c5a2c7bba": {
     "model_module": "@jupyter-widgets/base",
     "model_module_version": "1.2.0",
     "model_name": "LayoutModel",
     "state": {
      "_model_module": "@jupyter-widgets/base",
      "_model_module_version": "1.2.0",
      "_model_name": "LayoutModel",
      "_view_count": null,
      "_view_module": "@jupyter-widgets/base",
      "_view_module_version": "1.2.0",
      "_view_name": "LayoutView",
      "align_content": null,
      "align_items": null,
      "align_self": null,
      "border": null,
      "bottom": null,
      "display": null,
      "flex": null,
      "flex_flow": null,
      "grid_area": null,
      "grid_auto_columns": null,
      "grid_auto_flow": null,
      "grid_auto_rows": null,
      "grid_column": null,
      "grid_gap": null,
      "grid_row": null,
      "grid_template_areas": null,
      "grid_template_columns": null,
      "grid_template_rows": null,
      "height": null,
      "justify_content": null,
      "justify_items": null,
      "left": null,
      "margin": null,
      "max_height": null,
      "max_width": null,
      "min_height": null,
      "min_width": null,
      "object_fit": null,
      "object_position": null,
      "order": null,
      "overflow": null,
      "overflow_x": null,
      "overflow_y": null,
      "padding": null,
      "right": null,
      "top": null,
      "visibility": null,
      "width": null
     }
    },
    "702ea4ce4e22432c8017900e4224ef8f": {
     "model_module": "@jupyter-widgets/base",
     "model_module_version": "1.2.0",
     "model_name": "LayoutModel",
     "state": {
      "_model_module": "@jupyter-widgets/base",
      "_model_module_version": "1.2.0",
      "_model_name": "LayoutModel",
      "_view_count": null,
      "_view_module": "@jupyter-widgets/base",
      "_view_module_version": "1.2.0",
      "_view_name": "LayoutView",
      "align_content": null,
      "align_items": null,
      "align_self": null,
      "border": null,
      "bottom": null,
      "display": null,
      "flex": null,
      "flex_flow": null,
      "grid_area": null,
      "grid_auto_columns": null,
      "grid_auto_flow": null,
      "grid_auto_rows": null,
      "grid_column": null,
      "grid_gap": null,
      "grid_row": null,
      "grid_template_areas": null,
      "grid_template_columns": null,
      "grid_template_rows": null,
      "height": null,
      "justify_content": null,
      "justify_items": null,
      "left": null,
      "margin": null,
      "max_height": null,
      "max_width": null,
      "min_height": null,
      "min_width": null,
      "object_fit": null,
      "object_position": null,
      "order": null,
      "overflow": null,
      "overflow_x": null,
      "overflow_y": null,
      "padding": null,
      "right": null,
      "top": null,
      "visibility": null,
      "width": null
     }
    },
    "8c71350ff6cd49759102382d7cd71c06": {
     "model_module": "@jupyter-widgets/controls",
     "model_module_version": "1.5.0",
     "model_name": "DescriptionStyleModel",
     "state": {
      "_model_module": "@jupyter-widgets/controls",
      "_model_module_version": "1.5.0",
      "_model_name": "DescriptionStyleModel",
      "_view_count": null,
      "_view_module": "@jupyter-widgets/base",
      "_view_module_version": "1.2.0",
      "_view_name": "StyleView",
      "description_width": ""
     }
    },
    "a5d57626c5e84907b71c3fbb7ee5d2ef": {
     "model_module": "@jupyter-widgets/controls",
     "model_module_version": "1.5.0",
     "model_name": "ButtonStyleModel",
     "state": {
      "_model_module": "@jupyter-widgets/controls",
      "_model_module_version": "1.5.0",
      "_model_name": "ButtonStyleModel",
      "_view_count": null,
      "_view_module": "@jupyter-widgets/base",
      "_view_module_version": "1.2.0",
      "_view_name": "StyleView",
      "button_color": null,
      "font_weight": ""
     }
    },
    "c54502876b944c869656bb6be02a3be9": {
     "model_module": "@jupyter-widgets/controls",
     "model_module_version": "1.5.0",
     "model_name": "VBoxModel",
     "state": {
      "_dom_classes": [],
      "_model_module": "@jupyter-widgets/controls",
      "_model_module_version": "1.5.0",
      "_model_name": "VBoxModel",
      "_view_count": null,
      "_view_module": "@jupyter-widgets/controls",
      "_view_module_version": "1.5.0",
      "_view_name": "VBoxView",
      "box_style": "",
      "children": [
       "IPY_MODEL_2a0b554caa4d49bd88be8e4231896eea",
       "IPY_MODEL_3db565c151c74ca286ef848280daae9b",
       "IPY_MODEL_f65b38497ec340dc9fb1d2d7ea2c79e3",
       "IPY_MODEL_437f486f11c346398a8949aa1e31f1e1",
       "IPY_MODEL_464e305ecce54ee2a455a4b8b47d430a"
      ],
      "layout": "IPY_MODEL_3850254bde994b41aa95c3b7d94852fa"
     }
    },
    "d6df1f59a9a6426ba37e75c1c876eec8": {
     "model_module": "@jupyter-widgets/controls",
     "model_module_version": "1.5.0",
     "model_name": "DescriptionStyleModel",
     "state": {
      "_model_module": "@jupyter-widgets/controls",
      "_model_module_version": "1.5.0",
      "_model_name": "DescriptionStyleModel",
      "_view_count": null,
      "_view_module": "@jupyter-widgets/base",
      "_view_module_version": "1.2.0",
      "_view_name": "StyleView",
      "description_width": ""
     }
    },
    "f65b38497ec340dc9fb1d2d7ea2c79e3": {
     "model_module": "@jupyter-widgets/controls",
     "model_module_version": "1.5.0",
     "model_name": "ButtonModel",
     "state": {
      "_dom_classes": [],
      "_model_module": "@jupyter-widgets/controls",
      "_model_module_version": "1.5.0",
      "_model_name": "ButtonModel",
      "_view_count": null,
      "_view_module": "@jupyter-widgets/controls",
      "_view_module_version": "1.5.0",
      "_view_name": "ButtonView",
      "button_style": "",
      "description": "Classify",
      "disabled": false,
      "icon": "",
      "layout": "IPY_MODEL_4f4992bc8bf54580bb45535c5a2c7bba",
      "style": "IPY_MODEL_a5d57626c5e84907b71c3fbb7ee5d2ef",
      "tooltip": ""
     }
    },
    "fdc34bbf58334e1d9769bd910ab98764": {
     "model_module": "@jupyter-widgets/controls",
     "model_module_version": "1.5.0",
     "model_name": "ButtonStyleModel",
     "state": {
      "_model_module": "@jupyter-widgets/controls",
      "_model_module_version": "1.5.0",
      "_model_name": "ButtonStyleModel",
      "_view_count": null,
      "_view_module": "@jupyter-widgets/base",
      "_view_module_version": "1.2.0",
      "_view_name": "StyleView",
      "button_color": null,
      "font_weight": ""
     }
    }
   }
  }
 },
 "nbformat": 4,
 "nbformat_minor": 1
}
